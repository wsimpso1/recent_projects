{
  "nbformat": 4,
  "nbformat_minor": 0,
  "metadata": {
    "colab": {
      "name": "SatDeV_data_preparation.ipynb",
      "provenance": [],
      "collapsed_sections": [],
      "authorship_tag": "ABX9TyMrs7/H3iYvpcEfq+8XtiAz",
      "include_colab_link": true
    },
    "kernelspec": {
      "name": "python3",
      "display_name": "Python 3"
    },
    "language_info": {
      "name": "python"
    }
  },
  "cells": [
    {
      "cell_type": "markdown",
      "metadata": {
        "id": "view-in-github",
        "colab_type": "text"
      },
      "source": [
        "<a href=\"https://colab.research.google.com/github/wsimpso1/recent_projects/blob/main/Satellite_Imagery_Analysis/SatDeV_data_preparation.ipynb\" target=\"_parent\"><img src=\"https://colab.research.google.com/assets/colab-badge.svg\" alt=\"Open In Colab\"/></a>"
      ]
    },
    {
      "cell_type": "markdown",
      "source": [
        "# SatDeV: Satellite and Aerial Detection of Vehicles\n",
        "\n",
        "William Simpson \\\n",
        "DATA 690: Applied Artifical Intelligence \\\n",
        "Spring 2022\n",
        "\n",
        "## Project Description:\n",
        "Leverage transfer learning to retrain an object detection model to identify 5 classes of vehicles in satellite and aerial imagery: small vehicles, large vehicles, ships, planes, helicopters.\n",
        "\n",
        "## References:\n",
        "1. Xia, G. S., Bai, X., Ding, J., Zhu, Z., Belongie, S., Luo, J., ... & Zhang, L. (2018). DOTA: A large-scale dataset for object detection in aerial images. In Proceedings of the IEEE conference on computer vision and pattern recognition (pp. 3974-3983). https://doi.org/10.48550/arXiv.1711.10398\n",
        "2. Solawetz, J., Nelson, J., MAY 21, S. S., & Read, 2020 9 Min. (2020, May 21). How to Train YOLOv4 on a Custom Dataset. Roboflow Blog. https://blog.roboflow.com/training-yolov4-on-a-custom-dataset/ \n",
        "3. Ivan Goncharov. (2019, July 18). Set Up YOLOv3 & Darknet on Google Colab. https://www.youtube.com/watch?v=USdaipqgZR8\n",
        "4. Techzizou. (2021, February 24). TRAIN A CUSTOM YOLOv4-tiny OBJECT DETECTOR USING GOOGLE COLAB. Analytics Vidhya. https://medium.com/analytics-vidhya/train-a-custom-yolov4-tiny-object-detector-using-google-colab-b58be08c9593#d4cc\n",
        "5. Radio Free Europe/Radio Liberty. (2021, April 21). Satellite Images Show Military Buildup In Russia, Ukraine. Radio Free Europe/Radio Liberty. https://www.rferl.org/a/russia-ukraine-military-buildup-satellite-images/31214867.html\n",
        "6. Reuters. (2022, January 20). Satellite images show Russian troop build-up near Ukraine border. https://www.youtube.com/watch?v=u06ePMYR3IU\n",
        "7. Redmon, J., Divvala, S., Girshick, R., & Farhadi, A. (2016). You Only Look Once: Unified, Real-Time Object Detection (arXiv:1506.02640). arXiv. https://doi.org/10.48550/arXiv.1506.02640\n",
        "\n",
        "---\n",
        "\n",
        "# Notebook 1: Data Preparation"
      ],
      "metadata": {
        "id": "BAZDoR7pX4P0"
      }
    },
    {
      "cell_type": "code",
      "source": [
        "import os\n",
        "import re\n",
        "import shutil"
      ],
      "metadata": {
        "id": "UCBW5Q1HXeoy"
      },
      "execution_count": null,
      "outputs": []
    },
    {
      "cell_type": "code",
      "source": [
        "# mount colab\n",
        "from google.colab import drive\n",
        "drive.mount('/content/drive')"
      ],
      "metadata": {
        "colab": {
          "base_uri": "https://localhost:8080/"
        },
        "id": "oJX9P060Xb2c",
        "outputId": "56c5f59a-228b-4772-dad7-01ea80316b46"
      },
      "execution_count": null,
      "outputs": [
        {
          "output_type": "stream",
          "name": "stdout",
          "text": [
            "Mounted at /content/drive\n"
          ]
        }
      ]
    },
    {
      "cell_type": "code",
      "execution_count": null,
      "metadata": {
        "colab": {
          "base_uri": "https://localhost:8080/"
        },
        "id": "czoh22_CXMY8",
        "outputId": "91757a80-ba6f-4d51-a18d-19d03aaf2c63"
      },
      "outputs": [
        {
          "output_type": "stream",
          "name": "stdout",
          "text": [
            "Cloning into 'DOTA_YOLOv2'...\n",
            "remote: Enumerating objects: 1060, done.\u001b[K\n",
            "remote: Total 1060 (delta 0), reused 0 (delta 0), pack-reused 1060\u001b[K\n",
            "Receiving objects: 100% (1060/1060), 32.42 MiB | 20.81 MiB/s, done.\n",
            "Resolving deltas: 100% (198/198), done.\n"
          ]
        }
      ],
      "source": [
        "# scripts for transforming DOTA data to a format recognized by YOLO/Darknet\n",
        "# Source: https://github.com/ringringyi/DOTA_YOLOv2\n",
        "!git clone https://github.com/ringringyi/DOTA_YOLOv2.git"
      ]
    },
    {
      "cell_type": "code",
      "source": [
        "%cd /content/DOTA_YOLOv2/data_transform/"
      ],
      "metadata": {
        "colab": {
          "base_uri": "https://localhost:8080/"
        },
        "id": "q8j7MIhUXYwQ",
        "outputId": "244b0be4-1a64-4a18-917f-8b7f637f4a64"
      },
      "execution_count": null,
      "outputs": [
        {
          "output_type": "stream",
          "name": "stdout",
          "text": [
            "/content/DOTA_YOLOv2/data_transform\n"
          ]
        }
      ]
    },
    {
      "cell_type": "code",
      "source": [
        "from YOLO_Transform import dota2darknet"
      ],
      "metadata": {
        "id": "kIzHSvkzXixD"
      },
      "execution_count": null,
      "outputs": []
    },
    {
      "cell_type": "code",
      "source": [
        "%cd ../../drive/MyDrive/data690-ai/data/train"
      ],
      "metadata": {
        "colab": {
          "base_uri": "https://localhost:8080/"
        },
        "id": "w0OvZOMwXjBz",
        "outputId": "389152cb-a09d-41f6-800a-cdc11743230f"
      },
      "execution_count": null,
      "outputs": [
        {
          "output_type": "stream",
          "name": "stdout",
          "text": [
            "/content/drive/MyDrive/data690-ai/data/train\n"
          ]
        }
      ]
    },
    {
      "cell_type": "code",
      "source": [
        "!mkdir labels"
      ],
      "metadata": {
        "id": "25rLIm38z450"
      },
      "execution_count": null,
      "outputs": []
    },
    {
      "cell_type": "code",
      "source": [
        "# transform data from DOTA format to a format recognized by YOLO\n",
        "dota2darknet('images',\n",
        "             'labelTxt',\n",
        "             'labels',\n",
        "             ['small-vehicle','large-vehicle','plane','ship','helicopter'])"
      ],
      "metadata": {
        "id": "kFdIO33_XjG_"
      },
      "execution_count": null,
      "outputs": []
    },
    {
      "cell_type": "code",
      "source": [
        "# file paths\n",
        "\n",
        "label_path = '/content/drive/MyDrive/data690-ai/data/train/labels'\n",
        "image_path = '/content/drive/MyDrive/data690-ai/data/train/images'"
      ],
      "metadata": {
        "id": "ixP8UuluXjJ5"
      },
      "execution_count": null,
      "outputs": []
    },
    {
      "cell_type": "code",
      "source": [
        "# count number of files\n",
        " \n",
        "count_txt = 0\n",
        "\n",
        "# iterate over files in directory\n",
        "for filename in os.listdir(label_path):\n",
        "  count_txt += 1\n",
        "\n",
        "print('Total number of files:', count_txt)"
      ],
      "metadata": {
        "colab": {
          "base_uri": "https://localhost:8080/"
        },
        "id": "yxJws9zDXjMe",
        "outputId": "b961a1f6-b170-409f-d3a2-a6451b397e2f"
      },
      "execution_count": null,
      "outputs": [
        {
          "output_type": "stream",
          "name": "stdout",
          "text": [
            "Total number of files: 1411\n"
          ]
        }
      ]
    },
    {
      "cell_type": "code",
      "source": [
        "!mkdir labels_not_for_use"
      ],
      "metadata": {
        "id": "nud8o4In4Cn1"
      },
      "execution_count": null,
      "outputs": []
    },
    {
      "cell_type": "code",
      "source": [
        "# remove label files that do not contain objects from the selected classes\n",
        "\n",
        "file_destination = '/content/drive/MyDrive/data690-ai/data/train/labels_not_for_use'\n",
        "\n",
        "for filename in os.listdir(label_path):\n",
        "  # label file paths\n",
        "  label_file = os.path.join(label_path, filename)\n",
        "  # check if label is empty -- meaning no objects in selected classes were found\n",
        "  with open(label_file, 'r') as f:\n",
        "    objects = f.read()\n",
        "    if objects == '':\n",
        "      # remove empty label files\n",
        "      shutil.move(label_file, file_destination)\n",
        "      #os.remove(label_file)\n",
        "    if objects == ' ':\n",
        "      shutil.move(label_file, file_destination)"
      ],
      "metadata": {
        "id": "30CZEQp4XjO9"
      },
      "execution_count": null,
      "outputs": []
    },
    {
      "cell_type": "code",
      "source": [
        "# confirm that all empty label files have been removed \n",
        "# and count the number of remaining files\n",
        "\n",
        "empty_files = []\n",
        "count_txt = 0\n",
        "\n",
        "for filename in os.listdir(label_path):\n",
        "  count_txt+=1\n",
        "  label_file = os.path.join(label_path, filename)\n",
        "  with open(label_file, 'r') as f:\n",
        "    objects = f.read()\n",
        "    if objects == '':\n",
        "      print(filename)\n",
        "      empty_files.append(filename)\n",
        "      \n",
        "print('Number of empty files:', len(empty_files))\n",
        "print('Number of non-empty files:', count_txt)"
      ],
      "metadata": {
        "colab": {
          "base_uri": "https://localhost:8080/"
        },
        "id": "Pwoj2VKpXjRU",
        "outputId": "2174b5fb-d87b-4343-8efb-b5ceab1f4f8c"
      },
      "execution_count": null,
      "outputs": [
        {
          "output_type": "stream",
          "name": "stdout",
          "text": [
            "Number of empty files: 0\n",
            "Number of non-empty files: 944\n"
          ]
        }
      ]
    },
    {
      "cell_type": "code",
      "source": [
        "!mkdir images_not_for_use"
      ],
      "metadata": {
        "id": "thf6xR975lVi"
      },
      "execution_count": null,
      "outputs": []
    },
    {
      "cell_type": "code",
      "source": [
        "# remove images that do not contain objects of the selected classes\n",
        "\n",
        "file_destination = '/content/drive/MyDrive/data690-ai/data/train/images_not_for_use'\n",
        "\n",
        "for image in os.listdir(image_path):\n",
        "  image_to_filename = re.sub('.png', '.txt', image)\n",
        "  if image_to_filename not in os.listdir(label_path):\n",
        "    shutil.move(os.path.join(image_path, image), file_destination)\n",
        "    #os.remove(os.path.join(image_path, image))"
      ],
      "metadata": {
        "id": "CpR3mEJLXjTu"
      },
      "execution_count": null,
      "outputs": []
    },
    {
      "cell_type": "code",
      "source": [
        "# confirm number of images matches the number of label files\n",
        "\n",
        "count_image = 0 \n",
        "for image in os.listdir(image_path):\n",
        "  count_image += 1\n",
        "  \n",
        "print('Number of images:', count_image)\n",
        "print('Number of images equals number of annotation files:', count_image==count_txt)"
      ],
      "metadata": {
        "colab": {
          "base_uri": "https://localhost:8080/"
        },
        "id": "slWZ-PMjXjV3",
        "outputId": "30c0d730-69c7-4952-9351-583d650464d8"
      },
      "execution_count": null,
      "outputs": [
        {
          "output_type": "stream",
          "name": "stdout",
          "text": [
            "Number of images: 944\n",
            "Number of images equals number of annotation files: True\n"
          ]
        }
      ]
    },
    {
      "cell_type": "markdown",
      "source": [
        "### Reorganize File Structure for Darknet"
      ],
      "metadata": {
        "id": "_z2yWKq-YbAD"
      }
    },
    {
      "cell_type": "code",
      "source": [
        "!mkdir combined"
      ],
      "metadata": {
        "id": "xvqWSMA26igl"
      },
      "execution_count": null,
      "outputs": []
    },
    {
      "cell_type": "code",
      "source": [
        "# copy all images into new folder that will contain both images and annotations\n",
        "!cp -R /content/drive/MyDrive/data690-ai/data/train/images/* /content/drive/MyDrive/data690-ai/data/train/combined"
      ],
      "metadata": {
        "id": "8VlVsna6Xx_a"
      },
      "execution_count": null,
      "outputs": []
    },
    {
      "cell_type": "code",
      "source": [
        "# copy all label file in to that new combined folder\n",
        "!cp -R /content/drive/MyDrive/data690-ai/data/train/labels/* /content/drive/MyDrive/data690-ai/data/train/combined"
      ],
      "metadata": {
        "id": "1RybDQxRbvCQ"
      },
      "execution_count": null,
      "outputs": []
    },
    {
      "cell_type": "code",
      "source": [
        ""
      ],
      "metadata": {
        "id": "yjCCurdo6wtc"
      },
      "execution_count": null,
      "outputs": []
    }
  ]
}
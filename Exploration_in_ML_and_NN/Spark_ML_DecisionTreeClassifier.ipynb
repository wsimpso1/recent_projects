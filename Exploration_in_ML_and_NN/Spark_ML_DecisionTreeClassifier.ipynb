{
 "cells": [
  {
   "cell_type": "markdown",
   "id": "c5cf48e6",
   "metadata": {},
   "source": [
    "# Spark ML Homework - Rain in Austrailia"
   ]
  },
  {
   "cell_type": "code",
   "execution_count": 1,
   "id": "ad6aa7d7",
   "metadata": {},
   "outputs": [],
   "source": [
    "# spark\n",
    "from pyspark.sql import SparkSession\n",
    "from pyspark.sql.types import StructType, StructField, StringType, IntegerType, DateType, DoubleType\n",
    "from pyspark.sql.functions import *\n",
    "\n",
    "# model building\n",
    "from pyspark.ml.feature import VectorAssembler, OneHotEncoder, StringIndexer\n",
    "from pyspark.ml.classification import DecisionTreeClassifier\n",
    "from pyspark.ml import Pipeline\n",
    "\n",
    "# model tuning\n",
    "from pyspark.ml.tuning import ParamGridBuilder, CrossValidator\n",
    "\n",
    "# model evaluation\n",
    "from pyspark.ml.evaluation import BinaryClassificationEvaluator, MulticlassClassificationEvaluator"
   ]
  },
  {
   "cell_type": "code",
   "execution_count": 2,
   "id": "09b97174",
   "metadata": {},
   "outputs": [
    {
     "name": "stderr",
     "output_type": "stream",
     "text": [
      "WARNING: An illegal reflective access operation has occurred\n",
      "WARNING: Illegal reflective access by org.apache.spark.unsafe.Platform (file:/usr/local/spark-3.1.2-bin-hadoop3.2/jars/spark-unsafe_2.12-3.1.2.jar) to constructor java.nio.DirectByteBuffer(long,int)\n",
      "WARNING: Please consider reporting this to the maintainers of org.apache.spark.unsafe.Platform\n",
      "WARNING: Use --illegal-access=warn to enable warnings of further illegal reflective access operations\n",
      "WARNING: All illegal access operations will be denied in a future release\n",
      "21/11/21 00:36:07 WARN NativeCodeLoader: Unable to load native-hadoop library for your platform... using builtin-java classes where applicable\n",
      "Using Spark's default log4j profile: org/apache/spark/log4j-defaults.properties\n",
      "Setting default log level to \"WARN\".\n",
      "To adjust logging level use sc.setLogLevel(newLevel). For SparkR, use setLogLevel(newLevel).\n"
     ]
    },
    {
     "data": {
      "text/html": [
       "\n",
       "            <div>\n",
       "                <p><b>SparkSession - in-memory</b></p>\n",
       "                \n",
       "        <div>\n",
       "            <p><b>SparkContext</b></p>\n",
       "\n",
       "            <p><a href=\"http://c5a499af9228:4040\">Spark UI</a></p>\n",
       "\n",
       "            <dl>\n",
       "              <dt>Version</dt>\n",
       "                <dd><code>v3.1.2</code></dd>\n",
       "              <dt>Master</dt>\n",
       "                <dd><code>local[*]</code></dd>\n",
       "              <dt>AppName</dt>\n",
       "                <dd><code>spark_ml</code></dd>\n",
       "            </dl>\n",
       "        </div>\n",
       "        \n",
       "            </div>\n",
       "        "
      ],
      "text/plain": [
       "<pyspark.sql.session.SparkSession at 0x7fde04b7b610>"
      ]
     },
     "execution_count": 2,
     "metadata": {},
     "output_type": "execute_result"
    }
   ],
   "source": [
    "# build spark session\n",
    "spark = (SparkSession\n",
    "         .builder\n",
    "         .appName('spark_ml')\n",
    "         .getOrCreate()\n",
    "        )\n",
    "spark"
   ]
  },
  {
   "cell_type": "code",
   "execution_count": 3,
   "id": "672159bf",
   "metadata": {},
   "outputs": [],
   "source": [
    "# define schema\n",
    "schema = (StructType([\n",
    "            StructField('Date', DateType(), True),\n",
    "            StructField('Location', StringType(), True),\n",
    "            StructField('MinTemp', DoubleType(), True),\n",
    "            StructField('MaxTemp', DoubleType(), True),\n",
    "            StructField('Rainfall', DoubleType(), True),\n",
    "            StructField('Evaporation', DoubleType(), True),\n",
    "            StructField('Sunshine', DoubleType(), True),\n",
    "            StructField('WindGustDir', StringType(), True),\n",
    "            StructField('WindGustSpeed', IntegerType(), True),\n",
    "            StructField('WindDir9am', StringType(), True),\n",
    "            StructField('WindDir3pm', StringType(), True),\n",
    "            StructField('WindSpeed9am', IntegerType(), True),\n",
    "            StructField('WindSpeed3pm', IntegerType(), True),\n",
    "            StructField('Humidity9am', IntegerType(), True),\n",
    "            StructField('Humidity3pm', IntegerType(), True),\n",
    "            StructField('Pressure9am', DoubleType(), True),\n",
    "            StructField('Pressure3pm', DoubleType(), True),\n",
    "            StructField('Cloud9am', IntegerType(), True),\n",
    "            StructField('Cloud3pm', IntegerType(), True),\n",
    "            StructField('Temp9am', DoubleType(), True),\n",
    "            StructField('Temp3pm', DoubleType(), True),\n",
    "            StructField('RainToday', StringType(), True),\n",
    "            StructField('RainTomorrow', StringType(), True)])\n",
    "         )"
   ]
  },
  {
   "cell_type": "code",
   "execution_count": 4,
   "id": "919c2224",
   "metadata": {},
   "outputs": [],
   "source": [
    "# load data\n",
    "rain_df = spark.read.csv('weatherAUS.csv', header=True, schema=schema)"
   ]
  },
  {
   "cell_type": "markdown",
   "id": "be23c0a3",
   "metadata": {},
   "source": [
    "## Drop Null Values"
   ]
  },
  {
   "cell_type": "code",
   "execution_count": 5,
   "id": "00b01424",
   "metadata": {},
   "outputs": [],
   "source": [
    "# separate columns by datatype\n",
    "num_cols = ['MinTemp', 'MaxTemp', 'Rainfall', 'Evaporation', 'Sunshine', 'WindGustSpeed', \n",
    "            'WindSpeed9am', 'WindSpeed3pm', 'Humidity9am', 'Humidity3pm', 'Pressure9am', \n",
    "            'Pressure3pm', 'Cloud9am', 'Cloud3pm', 'Temp9am', 'Temp3pm']\n",
    "categorical_col = ['Location', 'WindGustDir', 'WindDir9am', \n",
    "                   'WindDir3pm', 'RainToday']  \n",
    "target_col = ['RainTomorrow']"
   ]
  },
  {
   "cell_type": "code",
   "execution_count": 6,
   "id": "c131fb96",
   "metadata": {},
   "outputs": [],
   "source": [
    "# drop rows with null numerical col\n",
    "rain_df = rain_df.dropna(subset=num_cols)"
   ]
  },
  {
   "cell_type": "code",
   "execution_count": 7,
   "id": "c21d53bc",
   "metadata": {},
   "outputs": [],
   "source": [
    "# drop NA in categorical col\n",
    "for column in categorical_col:\n",
    "    rain_df = rain_df.filter(~(col(column) == 'NA'))"
   ]
  },
  {
   "cell_type": "code",
   "execution_count": 8,
   "id": "d0f05157",
   "metadata": {
    "scrolled": false
   },
   "outputs": [],
   "source": [
    "# drop NA in target col\n",
    "rain_df = rain_df.filter(~(col('RainTomorrow') == 'NA'))"
   ]
  },
  {
   "cell_type": "markdown",
   "id": "0c7d8c3f",
   "metadata": {},
   "source": [
    "## Remove Unnecessary Columns"
   ]
  },
  {
   "cell_type": "code",
   "execution_count": 9,
   "id": "bd6e34ac",
   "metadata": {},
   "outputs": [],
   "source": [
    "# drop Date column\n",
    "rain_df = rain_df.drop(col('Date'))"
   ]
  },
  {
   "cell_type": "markdown",
   "id": "bfd1de1a",
   "metadata": {},
   "source": [
    "## Train Test Split"
   ]
  },
  {
   "cell_type": "code",
   "execution_count": 10,
   "id": "8610625a",
   "metadata": {},
   "outputs": [],
   "source": [
    "# split the data into train (80%) and test (20%)\n",
    "train_rain, test_rain = rain_df.randomSplit([0.8, 0.2], seed=12345)"
   ]
  },
  {
   "cell_type": "markdown",
   "id": "1d4b9276",
   "metadata": {},
   "source": [
    "## One-Hot Encode Categorical Variables"
   ]
  },
  {
   "cell_type": "code",
   "execution_count": 11,
   "id": "2905b9cd",
   "metadata": {},
   "outputs": [],
   "source": [
    "# String index\n",
    "indexOutput = [x + '_idx' for x in categorical_col]\n",
    "stringIndexer = StringIndexer(inputCols=categorical_col, outputCols=indexOutput)\n",
    "\n",
    "# One-hot encode\n",
    "oheOutput = [x + '_ohe' for x in categorical_col]\n",
    "ohe = OneHotEncoder(inputCols=indexOutput, outputCols=oheOutput)\n",
    "\n",
    "# create numerical version of target column\n",
    "targetIndexer = StringIndexer(inputCol='RainTomorrow', outputCol='label')"
   ]
  },
  {
   "cell_type": "markdown",
   "id": "1e3333a0",
   "metadata": {},
   "source": [
    "## Model Building"
   ]
  },
  {
   "cell_type": "code",
   "execution_count": 12,
   "id": "ba6d76dc",
   "metadata": {},
   "outputs": [],
   "source": [
    "# prepare feature vector with vector assembler\n",
    "assemblerInput = oheOutput + num_cols\n",
    "vecAssembler = VectorAssembler(inputCols=assemblerInput, outputCol='features')"
   ]
  },
  {
   "cell_type": "code",
   "execution_count": 13,
   "id": "130cfefc",
   "metadata": {},
   "outputs": [],
   "source": [
    "# instantiate decision tree classifier\n",
    "dtc = DecisionTreeClassifier(featuresCol='features', labelCol='label')"
   ]
  },
  {
   "cell_type": "code",
   "execution_count": 14,
   "id": "df3fc00b",
   "metadata": {},
   "outputs": [],
   "source": [
    "# create pipeline\n",
    "pipeline = Pipeline(stages=[stringIndexer, ohe, targetIndexer, vecAssembler, dtc])"
   ]
  },
  {
   "cell_type": "code",
   "execution_count": 15,
   "id": "725c1e3c",
   "metadata": {},
   "outputs": [],
   "source": [
    "# evaluation metric for cross validation\n",
    "binaryEval = BinaryClassificationEvaluator()"
   ]
  },
  {
   "cell_type": "code",
   "execution_count": 16,
   "id": "bb9dcd3a",
   "metadata": {},
   "outputs": [],
   "source": [
    "# create parameter grid for hyperparameter tuning \n",
    "paramGrid = (ParamGridBuilder()\n",
    "             .addGrid(dtc.impurity, ['gini', 'entropy'])\n",
    "             .addGrid(dtc.maxBins, [5, 10, 15])\n",
    "             .addGrid(dtc.minInfoGain, [0.0, 0.2, 0.4])\n",
    "             .addGrid(dtc.maxDepth, [3, 5, 7])\n",
    "             .build()\n",
    "            )"
   ]
  },
  {
   "cell_type": "code",
   "execution_count": 17,
   "id": "d8838ade",
   "metadata": {
    "scrolled": true
   },
   "outputs": [
    {
     "name": "stderr",
     "output_type": "stream",
     "text": [
      "                                                                                \r"
     ]
    }
   ],
   "source": [
    "# cross validate with 3 folds\n",
    "cv = CrossValidator(estimator=pipeline, \n",
    "                    estimatorParamMaps=paramGrid, \n",
    "                    evaluator=binaryEval, \n",
    "                    numFolds=3, \n",
    "                    parallelism = 4)\n",
    "# fit the model\n",
    "cvModel = cv.fit(train_rain)\n",
    "# get best model \n",
    "bestModel = cvModel.bestModel"
   ]
  },
  {
   "cell_type": "code",
   "execution_count": 18,
   "id": "118c534d",
   "metadata": {},
   "outputs": [
    {
     "name": "stdout",
     "output_type": "stream",
     "text": [
      "Best parameters:\n",
      "—— Impurity: \tgini\n",
      "—— MaxBins: \t10\n",
      "—— MinInfoGain: 0.0\n",
      "—— MaxDepth: \t7\n"
     ]
    }
   ],
   "source": [
    "# get best model parameters \n",
    "bestImpurity = bestModel.stages[-1]._java_obj.getImpurity()\n",
    "bestMaxBins = bestModel.stages[-1]._java_obj.getMaxBins()\n",
    "bestMinInfoGain = bestModel.stages[-1]._java_obj.getMinInfoGain()\n",
    "bestMaxDepth = bestModel.stages[-1]._java_obj.getMaxDepth()\n",
    "# print best parameters\n",
    "print(f'Best parameters:')\n",
    "print(f'—— Impurity: \\t{bestImpurity}')\n",
    "print(f'—— MaxBins: \\t{bestMaxBins}')\n",
    "print(f'—— MinInfoGain: {bestMinInfoGain}')\n",
    "print(f'—— MaxDepth: \\t{bestMaxDepth}')"
   ]
  },
  {
   "cell_type": "code",
   "execution_count": 19,
   "id": "855bec22",
   "metadata": {},
   "outputs": [],
   "source": [
    "# make predictions with CV model - TEST data\n",
    "cvPredRainTest = cvModel.transform(test_rain)\n",
    "\n",
    "# predictions - TRAIN data\n",
    "cvPredRainTrain = cvModel.transform(train_rain)"
   ]
  },
  {
   "cell_type": "markdown",
   "id": "3cb22805",
   "metadata": {},
   "source": [
    "## Model Evaluation"
   ]
  },
  {
   "cell_type": "code",
   "execution_count": 20,
   "id": "c349c7d7",
   "metadata": {
    "scrolled": true
   },
   "outputs": [
    {
     "name": "stderr",
     "output_type": "stream",
     "text": [
      "                                                                                \r"
     ]
    },
    {
     "name": "stdout",
     "output_type": "stream",
     "text": [
      "F1 Score (training): 0.8456219904894644\n"
     ]
    },
    {
     "name": "stderr",
     "output_type": "stream",
     "text": [
      "                                                                                \r"
     ]
    },
    {
     "name": "stdout",
     "output_type": "stream",
     "text": [
      "Accuracy (training): 0.8538413768630234\n"
     ]
    },
    {
     "name": "stderr",
     "output_type": "stream",
     "text": [
      "                                                                                \r"
     ]
    },
    {
     "name": "stdout",
     "output_type": "stream",
     "text": [
      "F1 Score (test): 0.8356711374863235\n"
     ]
    },
    {
     "name": "stderr",
     "output_type": "stream",
     "text": [
      "[Stage 3864:==============>                                         (1 + 3) / 4]\r"
     ]
    },
    {
     "name": "stdout",
     "output_type": "stream",
     "text": [
      "Accuracy (test): 0.8446876103070949\n"
     ]
    },
    {
     "name": "stderr",
     "output_type": "stream",
     "text": [
      "                                                                                \r"
     ]
    }
   ],
   "source": [
    "# calculate accuracy and F1 score\n",
    "evaluator_f1 = MulticlassClassificationEvaluator(metricName='f1')\n",
    "evaluator_acc = MulticlassClassificationEvaluator(metricName='accuracy')\n",
    "\n",
    "# training accuracy and F1\n",
    "print('F1 Score (training):', evaluator_f1.evaluate(cvPredRainTrain))\n",
    "print('Accuracy (training):', evaluator_acc.evaluate(cvPredRainTrain))\n",
    "\n",
    "# test accuracy and F1\n",
    "print('F1 Score (test):', evaluator_f1.evaluate(cvPredRainTest))\n",
    "print('Accuracy (test):', evaluator_acc.evaluate(cvPredRainTest))"
   ]
  },
  {
   "cell_type": "code",
   "execution_count": null,
   "id": "d936ec83",
   "metadata": {},
   "outputs": [],
   "source": []
  }
 ],
 "metadata": {
  "kernelspec": {
   "display_name": "Python 3 (ipykernel)",
   "language": "python",
   "name": "python3"
  },
  "language_info": {
   "codemirror_mode": {
    "name": "ipython",
    "version": 3
   },
   "file_extension": ".py",
   "mimetype": "text/x-python",
   "name": "python",
   "nbconvert_exporter": "python",
   "pygments_lexer": "ipython3",
   "version": "3.9.6"
  }
 },
 "nbformat": 4,
 "nbformat_minor": 5
}

{
 "cells": [
  {
   "cell_type": "markdown",
   "id": "93dde391",
   "metadata": {},
   "source": [
    "# Final Project Data603 - Text Classification of Misinformation in PySpark"
   ]
  },
  {
   "cell_type": "code",
   "execution_count": 1,
   "id": "4c1db3e8",
   "metadata": {},
   "outputs": [],
   "source": [
    "# spark\n",
    "from pyspark.sql import SparkSession\n",
    "from pyspark.sql.types import StructType, StructField, StringType, TimestampType, LongType, FloatType\n",
    "from pyspark.sql.functions import *\n",
    "\n",
    "# visualization\n",
    "import pandas as pd\n",
    "import matplotlib.pyplot as plt\n",
    "import seaborn as sns\n",
    "\n",
    "# preprocessing\n",
    "import re\n",
    "from statistics import mean\n",
    "\n",
    "# model building\n",
    "from pyspark.ml.feature import CountVectorizer, IDF, Tokenizer, StopWordsRemover\n",
    "from pyspark.ml import Pipeline\n",
    "from pyspark.ml.classification import LogisticRegression\n",
    "\n",
    "# model evaluation\n",
    "from pyspark.ml.evaluation import BinaryClassificationEvaluator\n",
    "from sklearn.metrics import confusion_matrix"
   ]
  },
  {
   "cell_type": "code",
   "execution_count": 2,
   "id": "d899fdd2",
   "metadata": {},
   "outputs": [
    {
     "name": "stderr",
     "output_type": "stream",
     "text": [
      "WARNING: An illegal reflective access operation has occurred\n",
      "WARNING: Illegal reflective access by org.apache.spark.unsafe.Platform (file:/usr/local/spark-3.1.2-bin-hadoop3.2/jars/spark-unsafe_2.12-3.1.2.jar) to constructor java.nio.DirectByteBuffer(long,int)\n",
      "WARNING: Please consider reporting this to the maintainers of org.apache.spark.unsafe.Platform\n",
      "WARNING: Use --illegal-access=warn to enable warnings of further illegal reflective access operations\n",
      "WARNING: All illegal access operations will be denied in a future release\n",
      "21/12/08 19:43:07 WARN NativeCodeLoader: Unable to load native-hadoop library for your platform... using builtin-java classes where applicable\n",
      "Using Spark's default log4j profile: org/apache/spark/log4j-defaults.properties\n",
      "Setting default log level to \"WARN\".\n",
      "To adjust logging level use sc.setLogLevel(newLevel). For SparkR, use setLogLevel(newLevel).\n",
      "21/12/08 19:43:10 WARN Utils: Service 'SparkUI' could not bind on port 4040. Attempting port 4041.\n"
     ]
    },
    {
     "data": {
      "text/html": [
       "\n",
       "            <div>\n",
       "                <p><b>SparkSession - in-memory</b></p>\n",
       "                \n",
       "        <div>\n",
       "            <p><b>SparkContext</b></p>\n",
       "\n",
       "            <p><a href=\"http://c5a499af9228:4041\">Spark UI</a></p>\n",
       "\n",
       "            <dl>\n",
       "              <dt>Version</dt>\n",
       "                <dd><code>v3.1.2</code></dd>\n",
       "              <dt>Master</dt>\n",
       "                <dd><code>local[*]</code></dd>\n",
       "              <dt>AppName</dt>\n",
       "                <dd><code>misinfo_classif</code></dd>\n",
       "            </dl>\n",
       "        </div>\n",
       "        \n",
       "            </div>\n",
       "        "
      ],
      "text/plain": [
       "<pyspark.sql.session.SparkSession at 0x7fb5d27129d0>"
      ]
     },
     "execution_count": 2,
     "metadata": {},
     "output_type": "execute_result"
    }
   ],
   "source": [
    "# create spark session\n",
    "spark = (SparkSession\n",
    "         .builder\n",
    "         .config(\"spark.executor.memory\", \"8g\")\n",
    "         .config(\"spark.driver.memory\", \"8g\")\n",
    "         .config(\"spark.sql.autoBroadcastJoinThreshold\", \"-1\")\n",
    "         .appName('misinfo_classif')\n",
    "         .getOrCreate()\n",
    "        )\n",
    "spark"
   ]
  },
  {
   "cell_type": "code",
   "execution_count": 3,
   "id": "5e694b93",
   "metadata": {},
   "outputs": [
    {
     "data": {
      "text/html": [
       "<!-- this cell improves formatting for spark dataframe .show() output -->\n",
       "<style>\n",
       "div.output_area pre {\n",
       "    white-space: pre;\n",
       "}\n",
       "</style>\n"
      ],
      "text/plain": [
       "<IPython.core.display.HTML object>"
      ]
     },
     "metadata": {},
     "output_type": "display_data"
    }
   ],
   "source": [
    "%%html\n",
    "<!-- this cell improves formatting for spark dataframe .show() output -->\n",
    "<style>\n",
    "div.output_area pre {\n",
    "    white-space: pre;\n",
    "}\n",
    "</style>"
   ]
  },
  {
   "cell_type": "markdown",
   "id": "384a265d",
   "metadata": {},
   "source": [
    "## 1. Load and Prepare Data"
   ]
  },
  {
   "cell_type": "code",
   "execution_count": 4,
   "id": "1275202f",
   "metadata": {},
   "outputs": [],
   "source": [
    "# define schema\n",
    "schema = (StructType([\n",
    "            StructField('title', StringType(), False),\n",
    "            StructField('text', StringType(), False),\n",
    "            StructField('subject', StringType(), False),\n",
    "            StructField('date', StringType(), False)])\n",
    "         )"
   ]
  },
  {
   "cell_type": "code",
   "execution_count": 5,
   "id": "83e490bb",
   "metadata": {},
   "outputs": [
    {
     "data": {
      "text/plain": [
       "DataFrame[title: string, text: string, subject: string, date: string]"
      ]
     },
     "execution_count": 5,
     "metadata": {},
     "output_type": "execute_result"
    }
   ],
   "source": [
    "# load data \n",
    "true = spark.read.csv('True.csv', header=True, schema=schema)\n",
    "fake = spark.read.csv('Fake.csv', header=True, schema=schema)\n",
    "\n",
    "# cache dataframes\n",
    "true.cache()\n",
    "fake.cache()"
   ]
  },
  {
   "cell_type": "code",
   "execution_count": 6,
   "id": "37b419fe",
   "metadata": {},
   "outputs": [
    {
     "name": "stdout",
     "output_type": "stream",
     "text": [
      "root\n",
      " |-- title: string (nullable = true)\n",
      " |-- text: string (nullable = true)\n",
      " |-- subject: string (nullable = true)\n",
      " |-- date: string (nullable = true)\n",
      "\n",
      "root\n",
      " |-- title: string (nullable = true)\n",
      " |-- text: string (nullable = true)\n",
      " |-- subject: string (nullable = true)\n",
      " |-- date: string (nullable = true)\n",
      "\n"
     ]
    }
   ],
   "source": [
    "# print schema\n",
    "for data in [true, fake]:\n",
    "    data.printSchema()"
   ]
  },
  {
   "cell_type": "code",
   "execution_count": 7,
   "id": "a7f57f35",
   "metadata": {},
   "outputs": [
    {
     "name": "stderr",
     "output_type": "stream",
     "text": [
      "[Stage 0:>                                                          (0 + 1) / 1]\r"
     ]
    },
    {
     "name": "stdout",
     "output_type": "stream",
     "text": [
      "+--------------------+--------------------+--------------------+------------------+\n",
      "|               title|                text|             subject|              date|\n",
      "+--------------------+--------------------+--------------------+------------------+\n",
      "|As U.S. budget fi...|WASHINGTON (Reute...|        politicsNews|December 31, 2017 |\n",
      "|U.S. military to ...|WASHINGTON (Reute...|        politicsNews|December 29, 2017 |\n",
      "|Senior U.S. Repub...|WASHINGTON (Reute...|        politicsNews|December 31, 2017 |\n",
      "|FBI Russia probe ...|WASHINGTON (Reute...|        politicsNews|December 30, 2017 |\n",
      "|Trump wants Posta...|SEATTLE/WASHINGTO...|        politicsNews|December 29, 2017 |\n",
      "|White House, Cong...|WEST PALM BEACH, ...|        politicsNews|December 29, 2017 |\n",
      "|Trump says Russia...|WEST PALM BEACH, ...|        politicsNews|December 29, 2017 |\n",
      "|Factbox: Trump on...|The following sta...|        politicsNews|December 29, 2017 |\n",
      "|Trump on Twitter ...|The following sta...|        politicsNews|December 29, 2017 |\n",
      "|Alabama official ...|WASHINGTON (Reute...|        politicsNews|December 28, 2017 |\n",
      "|Jones certified U...|(Reuters) - Alaba...|        politicsNews|December 28, 2017 |\n",
      "|New York governor...|NEW YORK/WASHINGT...|        politicsNews|December 28, 2017 |\n",
      "|Factbox: Trump on...|The following sta...|        politicsNews|December 28, 2017 |\n",
      "|Trump on Twitter ...|\"The following st...| Associates Up 83...|      politicsNews|\n",
      "|Man says he deliv...| (In Dec. 25 stor...|        politicsNews|December 25, 2017 |\n",
      "|Virginia official...|(Reuters) - A lot...|        politicsNews|December 27, 2017 |\n",
      "|U.S. lawmakers qu...|WASHINGTON (Reute...|        politicsNews|December 27, 2017 |\n",
      "|Trump on Twitter ...|The following sta...|        politicsNews|December 26, 2017 |\n",
      "|U.S. appeals cour...|(Reuters) - A U.S...|        politicsNews|December 26, 2017 |\n",
      "|Treasury Secretar...|(Reuters) - A gif...|        politicsNews|December 24, 2017 |\n",
      "+--------------------+--------------------+--------------------+------------------+\n",
      "only showing top 20 rows\n",
      "\n"
     ]
    },
    {
     "name": "stderr",
     "output_type": "stream",
     "text": [
      "                                                                                \r"
     ]
    }
   ],
   "source": [
    "true.show()"
   ]
  },
  {
   "cell_type": "code",
   "execution_count": 8,
   "id": "e2c77dff",
   "metadata": {},
   "outputs": [
    {
     "name": "stdout",
     "output_type": "stream",
     "text": [
      "+--------------------+--------------------+-------+-----------------+\n",
      "|               title|                text|subject|             date|\n",
      "+--------------------+--------------------+-------+-----------------+\n",
      "| Donald Trump Sen...|Donald Trump just...|   News|December 31, 2017|\n",
      "| Drunk Bragging T...|House Intelligenc...|   News|December 31, 2017|\n",
      "| Sheriff David Cl...|On Friday, it was...|   News|December 30, 2017|\n",
      "| Trump Is So Obse...|On Christmas day,...|   News|December 29, 2017|\n",
      "| Pope Francis Jus...|Pope Francis used...|   News|December 25, 2017|\n",
      "| Racist Alabama C...|The number of cas...|   News|December 25, 2017|\n",
      "| Fresh Off The Go...|Donald Trump spen...|   News|December 23, 2017|\n",
      "| Trump Said Some ...|In the wake of ye...|   News|December 23, 2017|\n",
      "| Former CIA Direc...|Many people have ...|   News|December 22, 2017|\n",
      "| WATCH: Brand-New...|Just when you mig...|   News|December 21, 2017|\n",
      "| Papa John’s Foun...|A centerpiece of ...|   News|December 21, 2017|\n",
      "| WATCH: Paul Ryan...|Republicans are w...|   News|December 21, 2017|\n",
      "| Bad News For Tru...|Republicans have ...|   News|December 21, 2017|\n",
      "| WATCH: Lindsey G...|The media has bee...|   News|December 20, 2017|\n",
      "| Heiress To Disne...|Abigail Disney is...|   News|December 20, 2017|\n",
      "| Tone Deaf Trump:...|Donald Trump just...|   News|December 20, 2017|\n",
      "| The Internet Bru...|A new animatronic...|   News|December 19, 2017|\n",
      "| Mueller Spokesma...|Trump supporters ...|   News|December 17, 2017|\n",
      "| SNL Hilariously ...|Right now, the wh...|   News|December 17, 2017|\n",
      "| Republican Senat...|Senate Majority W...|   News|December 16, 2017|\n",
      "+--------------------+--------------------+-------+-----------------+\n",
      "only showing top 20 rows\n",
      "\n"
     ]
    },
    {
     "name": "stderr",
     "output_type": "stream",
     "text": [
      "                                                                                \r"
     ]
    }
   ],
   "source": [
    "fake.show()"
   ]
  },
  {
   "cell_type": "code",
   "execution_count": 9,
   "id": "cec4f719",
   "metadata": {},
   "outputs": [
    {
     "name": "stdout",
     "output_type": "stream",
     "text": [
      "+--------------------+--------------------+--------------------+------------------+------+\n",
      "|               title|                text|             subject|              date|target|\n",
      "+--------------------+--------------------+--------------------+------------------+------+\n",
      "|As U.S. budget fi...|WASHINGTON (Reute...|        politicsNews|December 31, 2017 |     1|\n",
      "|U.S. military to ...|WASHINGTON (Reute...|        politicsNews|December 29, 2017 |     1|\n",
      "|Senior U.S. Repub...|WASHINGTON (Reute...|        politicsNews|December 31, 2017 |     1|\n",
      "|FBI Russia probe ...|WASHINGTON (Reute...|        politicsNews|December 30, 2017 |     1|\n",
      "|Trump wants Posta...|SEATTLE/WASHINGTO...|        politicsNews|December 29, 2017 |     1|\n",
      "|White House, Cong...|WEST PALM BEACH, ...|        politicsNews|December 29, 2017 |     1|\n",
      "|Trump says Russia...|WEST PALM BEACH, ...|        politicsNews|December 29, 2017 |     1|\n",
      "|Factbox: Trump on...|The following sta...|        politicsNews|December 29, 2017 |     1|\n",
      "|Trump on Twitter ...|The following sta...|        politicsNews|December 29, 2017 |     1|\n",
      "|Alabama official ...|WASHINGTON (Reute...|        politicsNews|December 28, 2017 |     1|\n",
      "|Jones certified U...|(Reuters) - Alaba...|        politicsNews|December 28, 2017 |     1|\n",
      "|New York governor...|NEW YORK/WASHINGT...|        politicsNews|December 28, 2017 |     1|\n",
      "|Factbox: Trump on...|The following sta...|        politicsNews|December 28, 2017 |     1|\n",
      "|Trump on Twitter ...|\"The following st...| Associates Up 83...|      politicsNews|     1|\n",
      "|Man says he deliv...| (In Dec. 25 stor...|        politicsNews|December 25, 2017 |     1|\n",
      "|Virginia official...|(Reuters) - A lot...|        politicsNews|December 27, 2017 |     1|\n",
      "|U.S. lawmakers qu...|WASHINGTON (Reute...|        politicsNews|December 27, 2017 |     1|\n",
      "|Trump on Twitter ...|The following sta...|        politicsNews|December 26, 2017 |     1|\n",
      "|U.S. appeals cour...|(Reuters) - A U.S...|        politicsNews|December 26, 2017 |     1|\n",
      "|Treasury Secretar...|(Reuters) - A gif...|        politicsNews|December 24, 2017 |     1|\n",
      "+--------------------+--------------------+--------------------+------------------+------+\n",
      "only showing top 20 rows\n",
      "\n"
     ]
    }
   ],
   "source": [
    "# add target column and merge\n",
    "true = true.withColumn('target', lit(1))\n",
    "fake = fake.withColumn('target', lit(0))\n",
    "all_news = true.union(fake)\n",
    "all_news.cache()\n",
    "all_news.show()"
   ]
  },
  {
   "cell_type": "code",
   "execution_count": 10,
   "id": "e87a5f86",
   "metadata": {},
   "outputs": [
    {
     "name": "stderr",
     "output_type": "stream",
     "text": [
      "[Stage 3:====================================>                      (5 + 3) / 8]\r"
     ]
    },
    {
     "name": "stdout",
     "output_type": "stream",
     "text": [
      "+--------------------+--------------------+---------------+-------------------+------+\n",
      "|               title|                text|        subject|               date|target|\n",
      "+--------------------+--------------------+---------------+-------------------+------+\n",
      "|Trump to scrap pr...|WASHINGTON (Reute...|   politicsNews| September 4, 2017 |     1|\n",
      "| BUSTED: Trump’s ...|It turns out that...|           News|  December 18, 2016|     0|\n",
      "|White House eyein...|WASHINGTON (Reute...|   politicsNews| November 14, 2017 |     1|\n",
      "|Message to Presid...|21st Century Wire...|    Middle-east|  February 10, 2017|     0|\n",
      "|“GOOD-BYE SWEDEN”...|This blogger s pi...|Government News|       Nov 11, 2015|     0|\n",
      "|MAXINE WATERS Gle...|Rep. Maxine Water...|       politics|        Aug 6, 2017|     0|\n",
      "|[VIDEO] THEY BURN...|Barack and Michel...|      left-news|       Feb 20, 2016|     0|\n",
      "|Obama vetoes Sept...|WASHINGTON (Reute...|   politicsNews|September 23, 2016 |     1|\n",
      "|Return of defeate...|MOSCOW (Reuters) ...|      worldnews| December 12, 2017 |     1|\n",
      "| Fox News Finally...|Donald Trump just...|           News|     March 20, 2017|     0|\n",
      "|Republican Senato...|WASHINGTON (Reute...|   politicsNews|  December 1, 2017 |     1|\n",
      "|LIST OF 22 TIMES ...|Oh the irony of a...|Government News|        Dec 3, 2015|     0|\n",
      "|SUPREME COURT JUS...|What the heck is ...|       politics|       Jul 10, 2016|     0|\n",
      "|Republican Collin...|WASHINGTON (Reute...|   politicsNews|     April 5, 2016 |     1|\n",
      "|Senate leader McC...|WASHINGTON (Reute...|   politicsNews| December 22, 2017 |     1|\n",
      "|Rival Tuaregs sig...|BAMAKO (Reuters) ...|      worldnews|September 21, 2017 |     1|\n",
      "|Obama says he res...|WASHINGTON (Reute...|   politicsNews|     June 24, 2016 |     1|\n",
      "|Trump signs execu...|WASHINGTON (Reute...|   politicsNews|  January 24, 2017 |     1|\n",
      "|Korean 'comfort w...|TOKYO (Reuters) -...|      worldnews| December 19, 2017 |     1|\n",
      "| WATCH: President...|President  Zero F...|           News| September 16, 2016|     0|\n",
      "+--------------------+--------------------+---------------+-------------------+------+\n",
      "only showing top 20 rows\n",
      "\n"
     ]
    },
    {
     "name": "stderr",
     "output_type": "stream",
     "text": [
      "                                                                                \r"
     ]
    }
   ],
   "source": [
    "# random shuffling of rows\n",
    "all_news = all_news.orderBy(rand(seed=3))\n",
    "all_news.show()"
   ]
  },
  {
   "cell_type": "code",
   "execution_count": 11,
   "id": "bf833b38",
   "metadata": {},
   "outputs": [
    {
     "name": "stdout",
     "output_type": "stream",
     "text": [
      "root\n",
      " |-- title: string (nullable = true)\n",
      " |-- text: string (nullable = true)\n",
      " |-- subject: string (nullable = true)\n",
      " |-- date: string (nullable = true)\n",
      " |-- target: integer (nullable = false)\n",
      "\n"
     ]
    }
   ],
   "source": [
    "all_news.printSchema()"
   ]
  },
  {
   "cell_type": "code",
   "execution_count": 12,
   "id": "59577062",
   "metadata": {},
   "outputs": [
    {
     "data": {
      "text/plain": [
       "10000"
      ]
     },
     "execution_count": 12,
     "metadata": {},
     "output_type": "execute_result"
    }
   ],
   "source": [
    "# small dataset to avoid exceptions due to limitations on memory\n",
    "all_news = all_news.limit(10000)\n",
    "all_news.count()"
   ]
  },
  {
   "cell_type": "markdown",
   "id": "0b58d9cd",
   "metadata": {},
   "source": [
    "## 2. Examine Data (null values, missing values, duplicates, datatypes)"
   ]
  },
  {
   "cell_type": "code",
   "execution_count": 13,
   "id": "98d9260f",
   "metadata": {},
   "outputs": [
    {
     "name": "stderr",
     "output_type": "stream",
     "text": [
      "[Stage 7:>                                                          (0 + 1) / 1]\r"
     ]
    },
    {
     "name": "stdout",
     "output_type": "stream",
     "text": [
      "+-----+----+-------+----+------+\n",
      "|title|text|subject|date|target|\n",
      "+-----+----+-------+----+------+\n",
      "|    0|   0|      0|   0|     0|\n",
      "+-----+----+-------+----+------+\n",
      "\n"
     ]
    },
    {
     "name": "stderr",
     "output_type": "stream",
     "text": [
      "                                                                                \r"
     ]
    }
   ],
   "source": [
    "# show missing values\n",
    "missing_vals = (all_news\n",
    "                .select([count(when(isnan(c), c)).alias(c) for c in all_news.columns])\n",
    "               )\n",
    "missing_vals.show()"
   ]
  },
  {
   "cell_type": "code",
   "execution_count": 14,
   "id": "eee2d23b",
   "metadata": {},
   "outputs": [
    {
     "name": "stderr",
     "output_type": "stream",
     "text": [
      "[Stage 8:============================================>              (6 + 2) / 8]\r"
     ]
    },
    {
     "name": "stdout",
     "output_type": "stream",
     "text": [
      "+-----+----+-------+----+------+\n",
      "|title|text|subject|date|target|\n",
      "+-----+----+-------+----+------+\n",
      "|    0| 151|      0|   0|     0|\n",
      "+-----+----+-------+----+------+\n",
      "\n"
     ]
    },
    {
     "name": "stderr",
     "output_type": "stream",
     "text": [
      "                                                                                \r"
     ]
    }
   ],
   "source": [
    "# show blank text values\n",
    "blank_vals = (all_news\n",
    "                .select([count(when(col(c)==r' ', c)).alias(c) for c in all_news.columns]))\n",
    "blank_vals.show()"
   ]
  },
  {
   "cell_type": "code",
   "execution_count": 15,
   "id": "e58259da",
   "metadata": {},
   "outputs": [
    {
     "name": "stderr",
     "output_type": "stream",
     "text": [
      "[Stage 10:===========================================>              (6 + 2) / 8]\r"
     ]
    },
    {
     "name": "stdout",
     "output_type": "stream",
     "text": [
      "+-----+----+-------+----+------+\n",
      "|title|text|subject|date|target|\n",
      "+-----+----+-------+----+------+\n",
      "|    0|   2|      0|   0|     0|\n",
      "+-----+----+-------+----+------+\n",
      "\n"
     ]
    },
    {
     "name": "stderr",
     "output_type": "stream",
     "text": [
      "                                                                                \r"
     ]
    }
   ],
   "source": [
    "# show blank text values with double spaces\n",
    "blank_vals = (all_news\n",
    "                .select([count(when(col(c)==r'  ', c)).alias(c) for c in all_news.columns]))\n",
    "blank_vals.show()"
   ]
  },
  {
   "cell_type": "code",
   "execution_count": 16,
   "id": "3c45d12f",
   "metadata": {},
   "outputs": [],
   "source": [
    "# drop blank text values\n",
    "all_news = all_news.filter(~(col('text')==' '))\n",
    "all_news = all_news.filter(~(col('text')=='  '))"
   ]
  },
  {
   "cell_type": "code",
   "execution_count": 17,
   "id": "b4e515d9",
   "metadata": {},
   "outputs": [
    {
     "name": "stderr",
     "output_type": "stream",
     "text": [
      "[Stage 15:>                                                         (0 + 1) / 1]\r"
     ]
    },
    {
     "name": "stdout",
     "output_type": "stream",
     "text": [
      "Number of Total Rows: 9845 \n",
      "Number of Distinct Rows 9547\n",
      "There are 298 rows with duplicates, which should be dropped\n"
     ]
    },
    {
     "name": "stderr",
     "output_type": "stream",
     "text": [
      "                                                                                \r"
     ]
    }
   ],
   "source": [
    "# duplicates based on text col\n",
    "num_rows = all_news.select('*').count()\n",
    "num_distinct_rows = all_news.select(['text']).distinct().count()\n",
    "\n",
    "print('Number of Total Rows:', num_rows, '\\nNumber of Distinct Rows', num_distinct_rows)\n",
    "print(f'There are {num_rows-num_distinct_rows} rows with duplicates, which should be dropped')"
   ]
  },
  {
   "cell_type": "code",
   "execution_count": 18,
   "id": "0fdb247a",
   "metadata": {},
   "outputs": [
    {
     "name": "stderr",
     "output_type": "stream",
     "text": [
      "                                                                                \r"
     ]
    },
    {
     "data": {
      "text/plain": [
       "9547"
      ]
     },
     "execution_count": 18,
     "metadata": {},
     "output_type": "execute_result"
    }
   ],
   "source": [
    "# drop duplicates\n",
    "all_news = all_news.dropDuplicates(subset=['text'])\n",
    "all_news.count()"
   ]
  },
  {
   "cell_type": "code",
   "execution_count": 19,
   "id": "69c229de",
   "metadata": {},
   "outputs": [
    {
     "name": "stdout",
     "output_type": "stream",
     "text": [
      "title : string\n",
      "text : string\n",
      "subject : string\n",
      "date : string\n",
      "target : int\n"
     ]
    }
   ],
   "source": [
    "# confirm datatypes\n",
    "for column in all_news.dtypes:\n",
    "    print(column[0], ':', column[1])"
   ]
  },
  {
   "cell_type": "code",
   "execution_count": 20,
   "id": "527f9a0d",
   "metadata": {
    "scrolled": false
   },
   "outputs": [
    {
     "name": "stderr",
     "output_type": "stream",
     "text": [
      "[Stage 19:>                                                         (0 + 1) / 1]\r"
     ]
    },
    {
     "name": "stdout",
     "output_type": "stream",
     "text": [
      "+--------------------+--------------------+---------------+----------+------+\n",
      "|               title|                text|        subject|      date|target|\n",
      "+--------------------+--------------------+---------------+----------+------+\n",
      "|MUSLIM INVASION O...|    (Welcome) to ...|Government News|2016-06-17|     0|\n",
      "|WOW! MAJOR CREDIT...|   Delta Air Line...|       politics|2017-06-12|     0|\n",
      "|FAKE NEWS WEEK: E...|  In response to ...|        US_News|2017-02-08|     0|\n",
      "|DON’T BELIEVE MED...|  This Facebook u...|      left-news|2016-10-24|     0|\n",
      "|JUDGE JEANINE PIR...|  https://www.you...|       politics|2017-03-12|     0|\n",
      "|U.N. envoy told N...| ((This Dec. 9 st...|      worldnews|2017-12-09|     1|\n",
      "|Trump son-in-law ...| (Corrects Comey ...|   politicsNews|2017-05-25|     1|\n",
      "|Trump could retur...| (Corrects this N...|   politicsNews|2016-11-15|     1|\n",
      "|Philadelphia Fox ...| (Editors Note: A...|   politicsNews|2017-01-26|     1|\n",
      "|Maine Democratic ...| (Editors note: A...|   politicsNews|2017-07-12|     1|\n",
      "|Maine lawmakers t...| (Editor’s note: ...|   politicsNews|2016-09-01|     1|\n",
      "|Maine governor's ...| (Editor’s note: ...|   politicsNews|2016-08-31|     1|\n",
      "|British minister ...| (Note: Readers m...|      worldnews|2017-10-29|     1|\n",
      "|White House on Lo...| (Photo: Patrick ...|    Middle-east|2016-05-30|     0|\n",
      "|Battle for Rome's...| (Please note: pr...|      worldnews|2017-11-09|     1|\n",
      "|New York probing ...| (This May 31 sto...|   politicsNews|2016-05-31|     1|\n",
      "|Suspected Istanbu...| (This November 2...|      worldnews|2017-11-28|     1|\n",
      "|Damages for Grenf...| (This Oct. 18 st...|      worldnews|2017-10-18|     1|\n",
      "|Spain gives Catal...| (This October 11...|      worldnews|2017-10-11|     1|\n",
      "|Trump baffles Swe...| (This story corr...|   politicsNews|2017-02-19|     1|\n",
      "+--------------------+--------------------+---------------+----------+------+\n",
      "only showing top 20 rows\n",
      "\n"
     ]
    },
    {
     "name": "stderr",
     "output_type": "stream",
     "text": [
      "                                                                                \r"
     ]
    }
   ],
   "source": [
    "# date reformatting\n",
    "# find rows that do not have a date-like format \n",
    "all_news = all_news.filter(all_news.date.rlike(r'.+\\s\\d+,\\s\\d{4}'))\n",
    "\n",
    "# standardize month format\n",
    "def month_reformat(date):\n",
    "    full_month = ['January', 'February', 'March', 'April', 'May', 'June', 'July', 'August', 'September', 'October', 'November', 'December']\n",
    "    date_month = re.findall(r'[a-zA-z]+', date)\n",
    "    suffix = re.findall(r'[^a-zA-z]+', date)\n",
    "    for i in range(len(full_month)):\n",
    "        if full_month[i] == date_month[0]:\n",
    "            return str(full_month[i][:3]) + str(suffix[0])\n",
    "    return str(date_month[0]) + str(suffix[0])\n",
    "\n",
    "# convert to sql udf\n",
    "month_reformat_udf = udf(month_reformat, StringType())\n",
    "all_news = all_news.withColumn('date', month_reformat_udf(trim(col('date'))))\n",
    "\n",
    "# convert to datetime object\n",
    "all_news = all_news.withColumn('date', to_date(col('date'), \"MMM d, yyyy\"))\n",
    "all_news.show()"
   ]
  },
  {
   "cell_type": "markdown",
   "id": "4c3bd4a3",
   "metadata": {},
   "source": [
    "## 3. Exploratory Data Analysis"
   ]
  },
  {
   "cell_type": "code",
   "execution_count": 21,
   "id": "7f3aa816",
   "metadata": {},
   "outputs": [
    {
     "name": "stderr",
     "output_type": "stream",
     "text": [
      "[Stage 21:>                                                         (0 + 1) / 1]\r"
     ]
    },
    {
     "name": "stdout",
     "output_type": "stream",
     "text": [
      "+------+-----+\n",
      "|target|count|\n",
      "+------+-----+\n",
      "|     0| 4573|\n",
      "|     1| 4693|\n",
      "+------+-----+\n",
      "\n"
     ]
    },
    {
     "name": "stderr",
     "output_type": "stream",
     "text": [
      "                                                                                \r"
     ]
    }
   ],
   "source": [
    "# class distribution\n",
    "dist = all_news.groupBy('target').count()\n",
    "dist.show()"
   ]
  },
  {
   "cell_type": "code",
   "execution_count": 22,
   "id": "edd565cf",
   "metadata": {},
   "outputs": [
    {
     "data": {
      "image/png": "[encoded data removed]",
      "text/plain": [
       "<Figure size 360x432 with 1 Axes>"
      ]
     },
     "metadata": {
      "needs_background": "light"
     },
     "output_type": "display_data"
    }
   ],
   "source": [
    "# visualize class distributions\n",
    "dist_pd = dist.toPandas()\n",
    "fig, ax = plt.subplots(figsize=(5,6))     \n",
    "true_fake_counts = dist_pd['count']\n",
    "categories = ['True News', 'Fake News']\n",
    "sns.barplot(x=categories, y=true_fake_counts)\n",
    "plt.title('Class Distributions')  \n",
    "plt.show()"
   ]
  },
  {
   "cell_type": "code",
   "execution_count": 23,
   "id": "e3e2d4a3",
   "metadata": {},
   "outputs": [
    {
     "name": "stderr",
     "output_type": "stream",
     "text": [
      "                                                                                \r"
     ]
    },
    {
     "data": {
      "image/png": "[encoded data removed]",
      "text/plain": [
       "<Figure size 864x360 with 2 Axes>"
      ]
     },
     "metadata": {
      "needs_background": "light"
     },
     "output_type": "display_data"
    },
    {
     "name": "stdout",
     "output_type": "stream",
     "text": [
      "Fake maximum text length: 8435\n",
      "Fake mean text length: 435.1392958670457 \n",
      "\n",
      "True maximum text length: 5174\n",
      "True mean text length: 393.3552098870658\n"
     ]
    }
   ],
   "source": [
    "# visualize length of text\n",
    "# get individual words/tokens\n",
    "eda_news = all_news.withColumn('words', split(trim(all_news['text']), ' '))\n",
    "# convert to pandas for visualizations\n",
    "tokens_df = eda_news.select(col('words'), col('target')).toPandas()\n",
    "# separate by class\n",
    "tokens_fake = tokens_df.loc[tokens_df.target == 0]\n",
    "tokens_true = tokens_df.loc[tokens_df.target == 1]\n",
    "# get lengths by class\n",
    "fake_length_words = [len(token_lst) for token_lst in tokens_fake['words']]\n",
    "true_length_words = [len(token_lst) for token_lst in tokens_true['words']]\n",
    "\n",
    "# plot distribution of word lengths\n",
    "fig, (ax1, ax2) = plt.subplots(1, 2, figsize=(12,5))\n",
    "ax1.hist(fake_length_words, bins=30)\n",
    "ax1.set_title('Fake News Word Count')\n",
    "ax1.set_xlabel('Number of Words')\n",
    "\n",
    "ax2.hist(true_length_words, bins=30)\n",
    "ax2.set_title('True News Word Count')\n",
    "ax2.set_xlabel('Number of Words')\n",
    "\n",
    "plt.show()\n",
    "\n",
    "print('Fake maximum text length:', sorted(fake_length_words, reverse=True)[0])\n",
    "print('Fake mean text length:', mean(fake_length_words), '\\n')\n",
    "\n",
    "print('True maximum text length:', sorted(true_length_words, reverse=True)[0])\n",
    "print('True mean text length:', mean(true_length_words))"
   ]
  },
  {
   "cell_type": "code",
   "execution_count": 24,
   "id": "3e23b541",
   "metadata": {},
   "outputs": [
    {
     "name": "stderr",
     "output_type": "stream",
     "text": [
      "                                                                                \r"
     ]
    },
    {
     "data": {
      "image/png": "[encoded data removed]",
      "text/plain": [
       "<Figure size 864x432 with 1 Axes>"
      ]
     },
     "metadata": {
      "needs_background": "light"
     },
     "output_type": "display_data"
    }
   ],
   "source": [
    "# subject and length\n",
    "subject_df = eda_news.select(col('words'), col('target'), col('subject')).toPandas()\n",
    "subject_df['length'] = [len(i) for i in subject_df['words']]\n",
    "subject_lengths = subject_df['length'].groupby(subject_df['subject']).mean().sort_values(ascending=False)\n",
    "\n",
    "fig, ax = plt.subplots(figsize=(12,6))     \n",
    "sns.barplot(x=subject_lengths.index,\n",
    "            y=subject_lengths)\n",
    "plt.title('Average document length by news subject')\n",
    "plt.ylabel('Mean Word Count')\n",
    "plt.show()"
   ]
  },
  {
   "cell_type": "code",
   "execution_count": 25,
   "id": "5adfcce8",
   "metadata": {},
   "outputs": [
    {
     "name": "stderr",
     "output_type": "stream",
     "text": [
      "                                                                                \r"
     ]
    },
    {
     "data": {
      "image/png": "[encoded data removed]",
      "text/plain": [
       "<Figure size 864x432 with 1 Axes>"
      ]
     },
     "metadata": {
      "needs_background": "light"
     },
     "output_type": "display_data"
    }
   ],
   "source": [
    "# date and length \n",
    "date_df = eda_news.select(col('words'), col('target'), col('date')).toPandas()\n",
    "date_df['length'] = [len(i) for i in subject_df['words']]\n",
    "date_length = date_df['length'].groupby(date_df['date']).mean()\n",
    "\n",
    "fig, ax = plt.subplots(figsize=(12,6))     \n",
    "sns.lineplot(x=date_length.index,\n",
    "            y=date_length)\n",
    "plt.title('Average document length over time')\n",
    "plt.ylabel('Mean Word Count')\n",
    "plt.show()"
   ]
  },
  {
   "cell_type": "markdown",
   "id": "0a6b708c",
   "metadata": {},
   "source": [
    "## 4. Text Cleaning"
   ]
  },
  {
   "cell_type": "code",
   "execution_count": 26,
   "id": "d6fe511d",
   "metadata": {},
   "outputs": [],
   "source": [
    "# remove rows that contain Twitter metadata or just website links\n",
    "all_news = all_news.filter(~all_news.text.rlike(r'The following statements'))\n",
    "all_news = all_news.filter(~all_news.text.rlike(r'^http'))"
   ]
  },
  {
   "cell_type": "code",
   "execution_count": 27,
   "id": "2e99cef6",
   "metadata": {
    "scrolled": false
   },
   "outputs": [
    {
     "name": "stderr",
     "output_type": "stream",
     "text": [
      "[Stage 31:>                                                         (0 + 1) / 1]\r"
     ]
    },
    {
     "name": "stdout",
     "output_type": "stream",
     "text": [
      "+--------------------+--------------------+---------------+----------+------+--------------------+\n",
      "|               title|                text|        subject|      date|target|          clean_text|\n",
      "+--------------------+--------------------+---------------+----------+------+--------------------+\n",
      "|MUSLIM INVASION O...|    (Welcome) to ...|Government News|2016-06-17|     0|welcome to americ...|\n",
      "|WOW! MAJOR CREDIT...|   Delta Air Line...|       politics|2017-06-12|     0|delta air lines a...|\n",
      "|FAKE NEWS WEEK: E...|  In response to ...|        US_News|2017-02-08|     0|in response to th...|\n",
      "|DON’T BELIEVE MED...|  This Facebook u...|      left-news|2016-10-24|     0|this facebook use...|\n",
      "|JUDGE JEANINE PIR...|  https://www.you...|       politics|2017-03-12|     0|httpswwwyoutubeco...|\n",
      "|U.N. envoy told N...| ((This Dec. 9 st...|      worldnews|2017-12-09|     1|the united nation...|\n",
      "|Trump son-in-law ...| (Corrects Comey ...|   politicsNews|2017-05-25|     1|president donald ...|\n",
      "|Trump could retur...| (Corrects this N...|   politicsNews|2016-11-15|     1|despite his profe...|\n",
      "|Philadelphia Fox ...| (Editors Note: A...|   politicsNews|2017-01-26|     1|a foxaffiliated p...|\n",
      "|Maine Democratic ...| (Editors note: A...|   politicsNews|2017-07-12|     1|a democratic stat...|\n",
      "|Maine lawmakers t...| (Editor’s note: ...|   politicsNews|2016-09-01|     1|maine legislative...|\n",
      "|Maine governor's ...| (Editor’s note: ...|   politicsNews|2016-08-31|     1|years before dona...|\n",
      "|British minister ...| (Note: Readers m...|      worldnews|2017-10-29|     1|british prime min...|\n",
      "|White House on Lo...| (Photo: Patrick ...|    Middle-east|2016-05-30|     0|photo patrick hen...|\n",
      "|Battle for Rome's...| (Please note: pr...|      worldnews|2017-11-09|     1|a bloody attack o...|\n",
      "|New York probing ...| (This May 31 sto...|   politicsNews|2016-05-31|     1|new york city is ...|\n",
      "|Suspected Istanbu...| (This November 2...|      worldnews|2017-11-28|     1|a former islamic ...|\n",
      "|Damages for Grenf...| (This Oct. 18 st...|      worldnews|2017-10-18|     1|the bill for comp...|\n",
      "|Spain gives Catal...| (This October 11...|      worldnews|2017-10-11|     1|spanish prime min...|\n",
      "|Trump baffles Swe...| (This story corr...|   politicsNews|2017-02-19|     1|a day after false...|\n",
      "+--------------------+--------------------+---------------+----------+------+--------------------+\n",
      "only showing top 20 rows\n",
      "\n"
     ]
    },
    {
     "name": "stderr",
     "output_type": "stream",
     "text": [
      "                                                                                \r"
     ]
    }
   ],
   "source": [
    "# remove punctuation, extra whitespace, special characters\n",
    "def clean_text(doc):\n",
    "    doc = re.sub(r'.*\\(Reuters\\)\\s\\-', '', doc)  # remove (Reuters) that exists at beginning of true news record\n",
    "    doc = re.sub(r'[^\\w\\s]', '', doc.lower().strip())  # remove any character except word and space characters\n",
    "    return doc\n",
    "\n",
    "clean_text_udf = udf(clean_text, StringType())\n",
    "\n",
    "all_news = all_news.withColumn('clean_text', clean_text_udf(col('text')))\n",
    "all_news.show()"
   ]
  },
  {
   "cell_type": "markdown",
   "id": "2b2c060b",
   "metadata": {},
   "source": [
    "## 5. Train Test Split"
   ]
  },
  {
   "cell_type": "code",
   "execution_count": 28,
   "id": "1caccf09",
   "metadata": {},
   "outputs": [],
   "source": [
    "# split the data into train (80%) and test (20%)\n",
    "train_news, test_news = all_news.randomSplit([0.8, 0.2], seed=3)"
   ]
  },
  {
   "cell_type": "markdown",
   "id": "44d40b74",
   "metadata": {},
   "source": [
    "## 6. Text Preprocessing and Featurization"
   ]
  },
  {
   "cell_type": "code",
   "execution_count": 29,
   "id": "1cde4f57",
   "metadata": {},
   "outputs": [
    {
     "name": "stderr",
     "output_type": "stream",
     "text": [
      "21/12/08 19:45:46 WARN DAGScheduler: Broadcasting large task binary with size 1071.8 KiB\n",
      "                                                                                \r"
     ]
    }
   ],
   "source": [
    "# create preprocessing and featurization pipeline\n",
    "# get tokens\n",
    "tokenizer = Tokenizer(inputCol='clean_text', outputCol='tokens')\n",
    "# remove stopwords\n",
    "remover = StopWordsRemover(inputCol='tokens', outputCol='tokens_no_stopwords')\n",
    "# determine term frequency with count vectorizer\n",
    "vectorizer = CountVectorizer(inputCol='tokens_no_stopwords', outputCol='rawFeatures')\n",
    "# determine idf\n",
    "idf = IDF(inputCol='rawFeatures', outputCol='features')\n",
    "# create pipeline\n",
    "pipeline = Pipeline(stages=[tokenizer, remover, vectorizer, idf])\n",
    "# fit pipeline to dataframe\n",
    "model = pipeline.fit(train_news)"
   ]
  },
  {
   "cell_type": "code",
   "execution_count": 30,
   "id": "e6a28a6e",
   "metadata": {},
   "outputs": [
    {
     "data": {
      "text/plain": [
       "DataFrame[title: string, text: string, subject: string, date: date, target: int, clean_text: string, tokens: array<string>, tokens_no_stopwords: array<string>, rawFeatures: vector, features: vector]"
      ]
     },
     "execution_count": 30,
     "metadata": {},
     "output_type": "execute_result"
    }
   ],
   "source": [
    "# transform train and test sets with pipeline\n",
    "train_news = model.transform(train_news)\n",
    "test_news = model.transform(test_news)\n",
    "# cache train and test sets\n",
    "train_news.cache()\n",
    "test_news.cache()"
   ]
  },
  {
   "cell_type": "markdown",
   "id": "d0b4abc2",
   "metadata": {},
   "source": [
    "## 7. Logistic Regression Model"
   ]
  },
  {
   "cell_type": "code",
   "execution_count": 31,
   "id": "65913799",
   "metadata": {
    "scrolled": true
   },
   "outputs": [
    {
     "name": "stderr",
     "output_type": "stream",
     "text": [
      "21/12/08 19:46:54 WARN DAGScheduler: Broadcasting large task binary with size 2.3 MiB\n",
      "21/12/08 19:48:02 WARN DAGScheduler: Broadcasting large task binary with size 2.4 MiB\n",
      "21/12/08 19:48:02 WARN BLAS: Failed to load implementation from: com.github.fommil.netlib.NativeSystemBLAS\n",
      "21/12/08 19:48:02 WARN BLAS: Failed to load implementation from: com.github.fommil.netlib.NativeRefBLAS\n",
      "21/12/08 19:48:02 WARN DAGScheduler: Broadcasting large task binary with size 2.4 MiB\n",
      "21/12/08 19:48:03 WARN DAGScheduler: Broadcasting large task binary with size 2.4 MiB\n",
      "21/12/08 19:48:03 WARN DAGScheduler: Broadcasting large task binary with size 2.4 MiB\n",
      "21/12/08 19:48:03 WARN DAGScheduler: Broadcasting large task binary with size 2.4 MiB\n",
      "21/12/08 19:48:03 WARN DAGScheduler: Broadcasting large task binary with size 2.4 MiB\n",
      "21/12/08 19:48:04 WARN DAGScheduler: Broadcasting large task binary with size 2.4 MiB\n",
      "21/12/08 19:48:04 WARN DAGScheduler: Broadcasting large task binary with size 2.4 MiB\n",
      "21/12/08 19:48:04 WARN DAGScheduler: Broadcasting large task binary with size 2.4 MiB\n",
      "21/12/08 19:48:04 WARN DAGScheduler: Broadcasting large task binary with size 2.4 MiB\n",
      "21/12/08 19:48:05 WARN DAGScheduler: Broadcasting large task binary with size 2.4 MiB\n",
      "21/12/08 19:48:05 WARN DAGScheduler: Broadcasting large task binary with size 2.4 MiB\n",
      "21/12/08 19:48:05 WARN DAGScheduler: Broadcasting large task binary with size 2.4 MiB\n",
      "21/12/08 19:48:05 WARN DAGScheduler: Broadcasting large task binary with size 2.4 MiB\n",
      "21/12/08 19:48:05 WARN DAGScheduler: Broadcasting large task binary with size 2.4 MiB\n",
      "21/12/08 19:48:05 WARN DAGScheduler: Broadcasting large task binary with size 2.4 MiB\n",
      "21/12/08 19:48:06 WARN DAGScheduler: Broadcasting large task binary with size 2.4 MiB\n",
      "21/12/08 19:48:06 WARN DAGScheduler: Broadcasting large task binary with size 2.4 MiB\n",
      "21/12/08 19:48:06 WARN DAGScheduler: Broadcasting large task binary with size 2.4 MiB\n",
      "21/12/08 19:48:06 WARN DAGScheduler: Broadcasting large task binary with size 2.4 MiB\n",
      "21/12/08 19:48:07 WARN DAGScheduler: Broadcasting large task binary with size 2.4 MiB\n",
      "21/12/08 19:48:08 WARN DAGScheduler: Broadcasting large task binary with size 2.4 MiB\n",
      "21/12/08 19:48:08 WARN DAGScheduler: Broadcasting large task binary with size 2.4 MiB\n",
      "21/12/08 19:48:08 WARN DAGScheduler: Broadcasting large task binary with size 2.4 MiB\n",
      "21/12/08 19:48:08 WARN DAGScheduler: Broadcasting large task binary with size 2.4 MiB\n",
      "21/12/08 19:48:09 WARN DAGScheduler: Broadcasting large task binary with size 2.4 MiB\n",
      "21/12/08 19:48:09 WARN DAGScheduler: Broadcasting large task binary with size 2.4 MiB\n",
      "21/12/08 19:48:09 WARN DAGScheduler: Broadcasting large task binary with size 2.4 MiB\n",
      "21/12/08 19:48:09 WARN DAGScheduler: Broadcasting large task binary with size 2.4 MiB\n",
      "21/12/08 19:48:09 WARN DAGScheduler: Broadcasting large task binary with size 2.4 MiB\n",
      "21/12/08 19:48:10 WARN DAGScheduler: Broadcasting large task binary with size 2.4 MiB\n",
      "21/12/08 19:48:10 WARN DAGScheduler: Broadcasting large task binary with size 2.4 MiB\n",
      "21/12/08 19:48:10 WARN DAGScheduler: Broadcasting large task binary with size 2.4 MiB\n",
      "21/12/08 19:48:10 WARN DAGScheduler: Broadcasting large task binary with size 2.4 MiB\n",
      "21/12/08 19:48:10 WARN DAGScheduler: Broadcasting large task binary with size 2.4 MiB\n",
      "21/12/08 19:48:10 WARN DAGScheduler: Broadcasting large task binary with size 2.4 MiB\n",
      "21/12/08 19:48:10 WARN DAGScheduler: Broadcasting large task binary with size 2.4 MiB\n",
      "21/12/08 19:48:10 WARN DAGScheduler: Broadcasting large task binary with size 2.4 MiB\n",
      "21/12/08 19:48:10 WARN DAGScheduler: Broadcasting large task binary with size 2.4 MiB\n",
      "21/12/08 19:48:11 WARN DAGScheduler: Broadcasting large task binary with size 2.4 MiB\n",
      "21/12/08 19:48:11 WARN DAGScheduler: Broadcasting large task binary with size 2.4 MiB\n",
      "21/12/08 19:48:11 WARN DAGScheduler: Broadcasting large task binary with size 2.4 MiB\n",
      "21/12/08 19:48:11 WARN DAGScheduler: Broadcasting large task binary with size 2.4 MiB\n",
      "21/12/08 19:48:11 WARN DAGScheduler: Broadcasting large task binary with size 2.4 MiB\n",
      "21/12/08 19:48:11 WARN DAGScheduler: Broadcasting large task binary with size 2.4 MiB\n",
      "21/12/08 19:48:12 WARN DAGScheduler: Broadcasting large task binary with size 2.4 MiB\n",
      "21/12/08 19:48:12 WARN DAGScheduler: Broadcasting large task binary with size 2.4 MiB\n",
      "21/12/08 19:48:12 WARN DAGScheduler: Broadcasting large task binary with size 2.4 MiB\n",
      "21/12/08 19:48:12 WARN DAGScheduler: Broadcasting large task binary with size 2.4 MiB\n",
      "21/12/08 19:48:12 WARN DAGScheduler: Broadcasting large task binary with size 2.4 MiB\n",
      "21/12/08 19:48:12 WARN DAGScheduler: Broadcasting large task binary with size 2.4 MiB\n",
      "21/12/08 19:48:12 WARN DAGScheduler: Broadcasting large task binary with size 2.4 MiB\n",
      "21/12/08 19:48:13 WARN DAGScheduler: Broadcasting large task binary with size 2.4 MiB\n"
     ]
    }
   ],
   "source": [
    "# instantiate logistic regression model\n",
    "lr = LogisticRegression(labelCol='target', featuresCol='features')\n",
    "# fit model\n",
    "lr_model = lr.fit(train_news)\n",
    "# make predictions\n",
    "target_pred = lr_model.transform(test_news)"
   ]
  },
  {
   "cell_type": "code",
   "execution_count": 32,
   "id": "ce098a1a",
   "metadata": {
    "scrolled": true
   },
   "outputs": [
    {
     "name": "stderr",
     "output_type": "stream",
     "text": [
      "21/12/08 19:48:14 WARN DAGScheduler: Broadcasting large task binary with size 3.0 MiB\n",
      "                                                                                \r"
     ]
    },
    {
     "name": "stdout",
     "output_type": "stream",
     "text": [
      "Area Under Curve for Logistic Regression Model: 0.9635919609159664\n"
     ]
    },
    {
     "name": "stderr",
     "output_type": "stream",
     "text": [
      "21/12/08 19:49:18 WARN DAGScheduler: Broadcasting large task binary with size 3.0 MiB\n",
      "21/12/08 19:49:19 WARN DAGScheduler: Broadcasting large task binary with size 2.3 MiB\n"
     ]
    },
    {
     "name": "stdout",
     "output_type": "stream",
     "text": [
      "Accuracy for Logistic Regression Model: 0.9110867178924259\n"
     ]
    }
   ],
   "source": [
    "# evaluate model \n",
    "# Area under curve\n",
    "evaluator = BinaryClassificationEvaluator(labelCol='target', metricName='areaUnderROC')\n",
    "AUC = evaluator.evaluate(target_pred)\n",
    "print('Area Under Curve for Logistic Regression Model:', AUC)\n",
    "\n",
    "# calculate accuracy\n",
    "accuracy = target_pred.filter(col('target') == col('prediction')).count() / float(test_news.count())\n",
    "print('Accuracy for Logistic Regression Model:', accuracy)"
   ]
  },
  {
   "cell_type": "code",
   "execution_count": 33,
   "id": "2969eb95",
   "metadata": {},
   "outputs": [
    {
     "name": "stdout",
     "output_type": "stream",
     "text": [
      "+--------------------+--------------------+-------+----------+------+--------------------+--------------------+--------------------+--------------------+--------------------+--------------------+--------------------+----------+\n",
      "|               title|                text|subject|      date|target|          clean_text|              tokens| tokens_no_stopwords|         rawFeatures|            features|       rawPrediction|         probability|prediction|\n",
      "+--------------------+--------------------+-------+----------+------+--------------------+--------------------+--------------------+--------------------+--------------------+--------------------+--------------------+----------+\n",
      "| #NeverTrump Cons...|Donald Trump is b...|   News|2017-03-01|     0|donald trump is b...|[donald, trump, i...|[donald, trump, g...|(83595,[0,1,2,4,5...|(83595,[0,1,2,4,5...|[46.6937094704608...|           [1.0,0.0]|       0.0|\n",
      "| 40 Million Bad*s...|According to an o...|   News|2016-01-05|     0|according to an o...|[according, to, a...|[according, open,...|(83595,[0,3,4,5,6...|(83595,[0,3,4,5,6...|[337.571616478651...|           [1.0,0.0]|       0.0|\n",
      "| 81-Year-Old Cuba...|Florida continues...|   News|2016-04-15|     0|florida continues...|[florida, continu...|[florida, continu...|(83595,[0,17,44,4...|(83595,[0,17,44,4...|[47.6280764321446...|           [1.0,0.0]|       0.0|\n",
      "| 9 Amazingly Raci...|Many Americans ha...|   News|2016-02-24|     0|many americans ha...|[many, americans,...|[many, americans,...|(83595,[0,2,9,11,...|(83595,[0,2,9,11,...|[38.2659405775103...|           [1.0,0.0]|       0.0|\n",
      "| 9-Year-Old Repor...|While it s conven...|   News|2016-04-05|     0|while it s conven...|[while, it, s, co...|[convenient, ster...|(83595,[0,1,5,6,8...|(83595,[0,1,5,6,8...|[56.6169551295933...|           [1.0,0.0]|       0.0|\n",
      "| AG Loretta Lynch...|North Carolina Go...|   News|2016-05-09|     0|north carolina go...|[north, carolina,...|[north, carolina,...|(83595,[0,1,4,5,7...|(83595,[0,1,4,5,7...|[93.0932248728879...|           [1.0,0.0]|       0.0|\n",
      "| AZ Cops Taser Ve...|Cops in America a...|   News|2016-03-29|     0|cops in america a...|[cops, in, americ...|[cops, america, c...|(83595,[0,1,5,6,8...|(83595,[0,1,5,6,8...|[111.300006703409...|           [1.0,0.0]|       0.0|\n",
      "| Activist Trolls ...|The United States...|   News|2016-06-12|     0|the united states...|[the, united, sta...|[united, states, ...|(83595,[0,3,5,6,8...|(83595,[0,3,5,6,8...|[-19.718694561586...|[2.73073628043962...|       1.0|\n",
      "| Actor Michael Sh...| Kneel before Tru...|   News|2016-11-16|     0|kneel before trum...|[kneel, before, t...|[kneel, trump, , ...|(83595,[0,2,5,6,9...|(83595,[0,2,5,6,9...|[70.1664498033986...|           [1.0,0.0]|       0.0|\n",
      "| After Being Hand...|Donald Trump hate...|   News|2017-04-26|     0|donald trump hate...|[donald, trump, h...|[donald, trump, h...|(83595,[0,1,2,4,5...|(83595,[0,1,2,4,5...|[126.204222113039...|           [1.0,0.0]|       0.0|\n",
      "| After The Second...|A Trio of Neo-Naz...|   News|2016-02-29|     0|a trio of neonazi...|[a, trio, of, neo...|[trio, neonazi, c...|(83595,[0,1,3,4,5...|(83595,[0,1,3,4,5...|[-27.332820486079...|[1.34743209585923...|       1.0|\n",
      "| Al Franken Hilar...|Al Franken return...|   News|2016-04-20|     0|al franken return...|[al, franken, ret...|[al, franken, ret...|(83595,[0,2,3,4,5...|(83595,[0,2,3,4,5...|[47.1387859695036...|           [1.0,0.0]|       0.0|\n",
      "| Alabama Republic...|Republicans in Al...|   News|2016-02-28|     0|republicans in al...|[republicans, in,...|[republicans, ala...|(83595,[0,1,4,5,6...|(83595,[0,1,4,5,6...|[15.9226611885493...|[0.99999987841610...|       0.0|\n",
      "| Alec Baldwin Bea...|Sean Spicer got o...|   News|2017-01-22|     0|sean spicer got o...|[sean, spicer, go...|[sean, spicer, go...|(83595,[0,2,3,4,5...|(83595,[0,2,3,4,5...|[75.7640598054903...|           [1.0,0.0]|       0.0|\n",
      "| Alec Baldwin Did...|Alec Baldwin didn...|   News|2016-10-16|     0|alec baldwin didn...|[alec, baldwin, d...|[alec, baldwin, d...|(83595,[0,1,2,6,1...|(83595,[0,1,2,6,1...|[44.5615164895077...|           [1.0,0.0]|       0.0|\n",
      "| Alec Baldwin Jus...|After this past w...|   News|2017-01-29|     0|after this past w...|[after, this, pas...|[past, week, days...|(83595,[0,2,3,4,5...|(83595,[0,2,3,4,5...|[-9.5250310808715...|[7.29961338140565...|       1.0|\n",
      "| Ammon Bundy’s Lu...|The saga surround...|   News|2016-03-10|     0|the saga surround...|[the, saga, surro...|[saga, surroundin...|(83595,[0,5,6,7,8...|(83595,[0,5,6,7,8...|[63.6195864747004...|           [1.0,0.0]|       0.0|\n",
      "| Amy Schumer’s Re...|Women, especially...|   News|2016-05-25|     0|women especially ...|[women, especiall...|[women, especiall...|(83595,[0,5,6,8,2...|(83595,[0,5,6,8,2...|[50.4435924387438...|           [1.0,0.0]|       0.0|\n",
      "| Ann Coulter Mock...|Just when you tho...|   News|2016-07-29|     0|just when you tho...|[just, when, you,...|[thought, ann, co...|(83595,[0,2,9,20,...|(83595,[0,2,9,20,...|[52.5419623559941...|           [1.0,0.0]|       0.0|\n",
      "| Another Fox Host...|It s an epidemic ...|   News|2017-08-04|     0|it s an epidemic ...|[it, s, an, epide...|[epidemic, inside...|(83595,[0,2,4,5,1...|(83595,[0,2,4,5,1...|[-2.2895917422426...|[0.09198864468831...|       1.0|\n",
      "+--------------------+--------------------+-------+----------+------+--------------------+--------------------+--------------------+--------------------+--------------------+--------------------+--------------------+----------+\n",
      "only showing top 20 rows\n",
      "\n"
     ]
    },
    {
     "name": "stderr",
     "output_type": "stream",
     "text": [
      "21/12/08 19:49:19 WARN DAGScheduler: Broadcasting large task binary with size 3.0 MiB\n"
     ]
    }
   ],
   "source": [
    "target_pred.show()"
   ]
  },
  {
   "cell_type": "code",
   "execution_count": 34,
   "id": "9d750648",
   "metadata": {},
   "outputs": [
    {
     "name": "stderr",
     "output_type": "stream",
     "text": [
      "21/12/08 19:49:19 WARN DAGScheduler: Broadcasting large task binary with size 2.3 MiB\n",
      "21/12/08 19:49:20 WARN DAGScheduler: Broadcasting large task binary with size 3.0 MiB\n"
     ]
    },
    {
     "data": {
      "image/png": "[encoded data removed]",
      "text/plain": [
       "<Figure size 720x432 with 2 Axes>"
      ]
     },
     "metadata": {
      "needs_background": "light"
     },
     "output_type": "display_data"
    }
   ],
   "source": [
    "# confusion matrix\n",
    "y_true = target_pred.select(col('target'))\n",
    "y_true = y_true.toPandas()\n",
    "y_pred = target_pred.select(col('prediction'))\n",
    "y_pred = y_pred.toPandas()\n",
    "\n",
    "cf_matrix = confusion_matrix(y_true, y_pred)\n",
    "fig, ax = plt.subplots(figsize=(10,6))     \n",
    "ax = sns.heatmap(cf_matrix, annot=True, fmt='d', \n",
    "                 xticklabels=['Fake News', 'True News'], \n",
    "                 yticklabels=['Fake News', 'True News'],\n",
    "                 cmap=\"Blues\")\n",
    "ax.set_xlabel('Predicted Label')\n",
    "ax.set_ylabel('Actual Label')\n",
    "ax.set_title('Confusion Matrix')\n",
    "plt.show()"
   ]
  },
  {
   "cell_type": "code",
   "execution_count": 35,
   "id": "f216adc3",
   "metadata": {},
   "outputs": [],
   "source": [
    "# examine feature importance\n",
    "# get coefficients\n",
    "weights = lr_model.coefficients\n",
    "weights = [(float(w),) for w in weights]\n",
    "\n",
    "# get tokens from feature vector\n",
    "feature_names = model.stages[2].vocabulary\n",
    "\n",
    "weight_feature_df = spark.createDataFrame(zip(weights, feature_names), schema= ['coefficients', 'featureName'])\n",
    "weight_feature_df1 = weight_feature_df.sort(asc('coefficients'))"
   ]
  },
  {
   "cell_type": "code",
   "execution_count": 36,
   "id": "fa0f79b1",
   "metadata": {
    "scrolled": false
   },
   "outputs": [
    {
     "name": "stdout",
     "output_type": "stream",
     "text": [
      "+--------------------+-------------------+\n",
      "|        coefficients|        featureName|\n",
      "+--------------------+-------------------+\n",
      "|{-12.127850097677...|       yearbringing|\n",
      "|{-12.127850097677...|        expeditions|\n",
      "|{-12.127850097677...|               tock|\n",
      "|{-12.127850097677...|            inkling|\n",
      "|{-12.127850097677...|   watchseanhannity|\n",
      "|{-12.127850097677...| httpstcoti7ycn7auf|\n",
      "|{-12.127850097677...|         computeras|\n",
      "|{-12.127850097677...|discoveredyesterday|\n",
      "|{-12.127850097677...|               666b|\n",
      "|{-12.127850097677...|          todaylast|\n",
      "|{-12.127850097677...|             showon|\n",
      "|{-12.127850097677...|               5774|\n",
      "|{-12.127850097677...|       tenambetween|\n",
      "|{-12.127850097677...|  interviewsfederal|\n",
      "|{-12.127850097677...|          today4767|\n",
      "|{-12.127850097677...|               7616|\n",
      "|{-12.127850097677...|               5707|\n",
      "|{-12.127850097677...|         electionmr|\n",
      "|{-12.127850097677...|     electionmccabe|\n",
      "|{-12.127850097677...|        laterrather|\n",
      "+--------------------+-------------------+\n",
      "only showing top 20 rows\n",
      "\n"
     ]
    }
   ],
   "source": [
    "weight_feature_df1.show()"
   ]
  },
  {
   "cell_type": "code",
   "execution_count": 37,
   "id": "60e4cc96",
   "metadata": {},
   "outputs": [],
   "source": [
    "weight_feature_df2 = weight_feature_df.sort(desc('coefficients'))"
   ]
  },
  {
   "cell_type": "code",
   "execution_count": 38,
   "id": "ad701a6b",
   "metadata": {},
   "outputs": [
    {
     "name": "stdout",
     "output_type": "stream",
     "text": [
      "+--------------------+------------------+\n",
      "|        coefficients|       featureName|\n",
      "+--------------------+------------------+\n",
      "| {7.303274381425323}|            leaner|\n",
      "| {6.212181171375291}|              1300|\n",
      "| {6.138760758133321}|             katya|\n",
      "| {6.019484064105074}|            abbate|\n",
      "| {5.983334094903243}|          hotheads|\n",
      "| {5.895178485632622}|           phasing|\n",
      "| {5.748111677698628}|              amaq|\n",
      "| {5.668174330492895}|     grandstanders|\n",
      "| {5.586677571273747}|          kermadec|\n",
      "|{5.3990643570559005}|       presidency |\n",
      "| {5.340904375586592}|          jfkfiles|\n",
      "| {5.225758503681253}|             annul|\n",
      "|  {5.13588442546609}|       summarizing|\n",
      "| {5.079913888576876}|        bring more|\n",
      "|{5.0592041645437344}|          knifeman|\n",
      "| {4.870090742326353}|            linzer|\n",
      "| {4.870090742326353}|           makeups|\n",
      "| {4.870090742326353}|        predictors|\n",
      "| {4.870090742326353}|      moreeducated|\n",
      "| {4.870090742326353}|higherthanexpected|\n",
      "+--------------------+------------------+\n",
      "only showing top 20 rows\n",
      "\n"
     ]
    }
   ],
   "source": [
    "weight_feature_df2.show()"
   ]
  },
  {
   "cell_type": "code",
   "execution_count": null,
   "id": "b4f897f7",
   "metadata": {},
   "outputs": [],
   "source": []
  }
 ],
 "metadata": {
  "kernelspec": {
   "display_name": "Python 3 (ipykernel)",
   "language": "python",
   "name": "python3"
  },
  "language_info": {
   "codemirror_mode": {
    "name": "ipython",
    "version": 3
   },
   "file_extension": ".py",
   "mimetype": "text/x-python",
   "name": "python",
   "nbconvert_exporter": "python",
   "pygments_lexer": "ipython3",
   "version": "3.9.6"
  }
 },
 "nbformat": 4,
 "nbformat_minor": 5
}
